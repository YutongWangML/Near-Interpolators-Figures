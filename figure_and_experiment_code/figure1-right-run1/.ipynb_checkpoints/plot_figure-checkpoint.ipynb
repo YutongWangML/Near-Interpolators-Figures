{
 "cells": [
  {
   "cell_type": "code",
   "execution_count": 11,
   "id": "3d4f48fb-e214-4a69-a948-214ade0a5976",
   "metadata": {},
   "outputs": [
    {
     "data": {
      "text/plain": [
       "{'commit': '6eb54c60c73cd50c606c48ea9db9ebc51e6ed738', 'experiment_tag': 'sweep_n_tr', 'n_tr': 5000, 'n_trs': 'np.logspace(2.302,3.699,20).astype(int)', 'hidden_layer_sizes': '(200,)', 'alpha': 1.25, 'gamma': '2/3', 'tau': 0.2, 'taus': 'np.linspace(0.05,0.80, 16)', 'n_te': 1000, 'max_iter': 2000, 'replicate': 1, 'method': 'rreg', 'sweep': 'tau', 'run_protocol': ['plot_figure.ipynb'], 'results': ['55fa2f1b113473ea4c283fa9c2f05c2f0ff18d13'], 'archive_path': '/home/yutongw/projects/Near-interpolators/paper_figures/archive'}"
      ]
     },
     "execution_count": 11,
     "metadata": {},
     "output_type": "execute_result"
    }
   ],
   "source": [
    "from vlab._utils import load_yaml_file\n",
    "import matplotlib.pyplot as plt\n",
    "config = load_yaml_file('config.yaml')\n",
    "config"
   ]
  },
  {
   "cell_type": "code",
   "execution_count": 12,
   "id": "12cb10c4-91aa-4223-b3bc-2252df2df156",
   "metadata": {},
   "outputs": [],
   "source": [
    "import pandas as pd\n",
    "import os"
   ]
  },
  {
   "cell_type": "code",
   "execution_count": 13,
   "id": "a315b23d-3ef7-417f-b43a-d9ff2d4761c7",
   "metadata": {},
   "outputs": [],
   "source": [
    "\n",
    "# for res_hash in config['results']:\n",
    "def get_df_from_res_hash(res_hash):\n",
    "    print(res_hash)\n",
    "    csv_files = os.listdir(f\"{config['archive_path']}/{res_hash}/outputs\")\n",
    "    df = pd.concat([pd.read_csv(f\"{config['archive_path']}/{res_hash}/outputs/{csv_file}\") for csv_file in csv_files])\n",
    "    # dfs.append(pd.read_csv(f\"{config['archive_path']}/{res_hash}\"))\n",
    "    return df\n",
    "import vlab\n",
    "def get_config_from_res_hash(res_hash):\n",
    "    print(res_hash)\n",
    "    return vlab.utils.load_yaml_file(f\"{config['archive_path']}/{res_hash}/config.yaml\")\n"
   ]
  },
  {
   "cell_type": "code",
   "execution_count": 14,
   "id": "efac2ff2-14b8-48b8-974a-2423cb0ee911",
   "metadata": {},
   "outputs": [],
   "source": [
    "from test_error_analytic_form import get_risk_predictors, k_grid, get_E_tr_inv\n",
    "\n",
    "from binary_search import binary_search\n",
    "colors = ['#1E88E5', '#D81B60']\n",
    "import numpy as np\n",
    "def plot_trade_off_curve(gamma, alpha, **kwargs):\n",
    "    E_te, E_tr, R = get_risk_predictors(gamma, alpha)\n",
    "    k_crit = binary_search(R,0,n_steps=30, init=1.5, LB=1.0, UB= 2.0)\n",
    "    ks = np.logspace(np.log10(k_crit), 4, num=100)\n",
    "    E_tr_inv = get_E_tr_inv(gamma,alpha)\n",
    "    ks = np.array([E_tr_inv(tau) for tau in np.linspace(0.001,0.98,100)])\n",
    "    # plt.scatter(df[\"rreg_E_tr\"], df[\"rreg_E_te\"],color = '#1f77b4',label='near-interpol-RR')\n",
    "    \n",
    "    \n",
    "    plt.plot(E_tr(ks),E_te(ks),**kwargs)\n",
    "    # ks = np.array([E_tr_inv(tau) for tau in np.linspace(0.001,0.98,20)])\n",
    "    # plt.scatter(E_tr(ks),E_te(ks))"
   ]
  },
  {
   "cell_type": "code",
   "execution_count": null,
   "id": "f72c7134-8ae0-4738-8380-d76b709051d3",
   "metadata": {},
   "outputs": [],
   "source": [
    "for i in range(len(config['results'])):\n",
    "    res_hash = config['results'][i]\n",
    "    df = get_df_from_res_hash(res_hash)\n",
    "    \n",
    "    run_config = get_config_from_res_hash(res_hash)\n",
    "    \n",
    "    \n",
    "    plt.scatter(df['E_tr'], df['E_te'],color=colors[0])\n",
    "    plot_trade_off_curve(gamma=eval(config['gamma']),alpha=config['alpha'], label=r'$\\alpha = ' +str(config['alpha'])+ ' $',color = colors[0])\n",
    "    \n",
    "    plt.axhline(y=1, color='k', linestyle=\":\", label='noise floor')\n",
    "    plt.xlim((-0.05,1.05))\n",
    "    \n",
    "    \n",
    "    plt.xlabel(r'Sample size $n$')\n",
    "    plt.ylabel(r'Squared norm of params/weights')\n",
    "    plt.savefig('outputs/trade_off.png')\n"
   ]
  },
  {
   "cell_type": "code",
   "execution_count": null,
   "id": "467cb9e2-7ec1-467d-a93c-75a6900f74c1",
   "metadata": {},
   "outputs": [],
   "source": []
  },
  {
   "cell_type": "code",
   "execution_count": 9,
   "id": "5eb2d795-b940-4a76-b559-65bfcfca0f64",
   "metadata": {},
   "outputs": [],
   "source": [
    "import numpy as np\n",
    "from scipy.stats import linregress\n",
    "\n",
    "def regression_line(df,quantity_name,legend=False,**kwargs):\n",
    "    n_trs = df['n_tr']\n",
    "    # Get log values\n",
    "    log_n_tr = np.log(n_trs)\n",
    "    log_mlp_norm = np.log(df[quantity_name])\n",
    "\n",
    "    # Linear regression\n",
    "    slope, intercept, _, _, _ = linregress(log_n_tr, log_mlp_norm)\n",
    "\n",
    "    # Linear fit line\n",
    "    x_values = np.linspace(min(n_trs),max(n_trs))\n",
    "\n",
    "    if legend:\n",
    "        \n",
    "        plt.plot(x_values, np.exp(intercept)*x_values**slope,label= r'Least squares fit (log-log)', **kwargs)\n",
    "    else:\n",
    "        plt.plot(x_values, np.exp(intercept)*x_values**slope,**kwargs)\n",
    "    return slope, intercept\n",
    "\n"
   ]
  }
 ],
 "metadata": {
  "kernelspec": {
   "display_name": "ml",
   "language": "python",
   "name": "ml"
  },
  "language_info": {
   "codemirror_mode": {
    "name": "ipython",
    "version": 3
   },
   "file_extension": ".py",
   "mimetype": "text/x-python",
   "name": "python",
   "nbconvert_exporter": "python",
   "pygments_lexer": "ipython3",
   "version": "3.11.4"
  }
 },
 "nbformat": 4,
 "nbformat_minor": 5
}
