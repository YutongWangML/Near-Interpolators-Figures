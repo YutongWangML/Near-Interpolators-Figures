{
 "cells": [
  {
   "cell_type": "code",
   "execution_count": 21,
   "id": "3d4f48fb-e214-4a69-a948-214ade0a5976",
   "metadata": {},
   "outputs": [],
   "source": [
    "from vlab._utils import load_yaml_file\n",
    "import matplotlib.pyplot as plt\n",
    "plt.rcParams['text.usetex'] = True\n",
    "plt.rcParams['font.size'] = 14\n",
    "\n",
    "config = load_yaml_file('config.yaml')\n",
    "config"
   ]
  },
  {
   "cell_type": "code",
   "execution_count": 22,
   "id": "12cb10c4-91aa-4223-b3bc-2252df2df156",
   "metadata": {},
   "outputs": [],
   "source": [
    "import pandas as pd\n",
    "import os"
   ]
  },
  {
   "cell_type": "code",
   "execution_count": 23,
   "id": "a315b23d-3ef7-417f-b43a-d9ff2d4761c7",
   "metadata": {},
   "outputs": [],
   "source": [
    "\n",
    "# for res_hash in config['results']:\n",
    "def get_df_from_res_hash(res_hash):\n",
    "    print(res_hash)\n",
    "    csv_files = os.listdir(f\"{config['archive_path']}/{res_hash}/outputs\")\n",
    "    df = pd.concat([pd.read_csv(f\"{config['archive_path']}/{res_hash}/outputs/{csv_file}\") for csv_file in csv_files])\n",
    "    # dfs.append(pd.read_csv(f\"{config['archive_path']}/{res_hash}\"))\n",
    "    return df\n",
    "import vlab\n",
    "def get_config_from_res_hash(res_hash):\n",
    "    print(res_hash)\n",
    "    return vlab.utils.load_yaml_file(f\"{config['archive_path']}/{res_hash}/config.yaml\")\n"
   ]
  },
  {
   "cell_type": "code",
   "execution_count": 24,
   "id": "efac2ff2-14b8-48b8-974a-2423cb0ee911",
   "metadata": {},
   "outputs": [],
   "source": [
    "from test_error_analytic_form import get_risk_predictors, k_grid, get_E_tr_inv\n",
    "\n",
    "from binary_search import binary_search\n",
    "colors = ['#1E88E5', '#D81B60']\n",
    "colorsL= ['#A5D5FF','#FF86B2']\n",
    "import numpy as np\n",
    "def plot_trade_off_curve(gamma, alpha, **kwargs):\n",
    "    E_te, E_tr, R = get_risk_predictors(gamma, alpha)\n",
    "    k_crit = binary_search(R,0,n_steps=30, init=1.5, LB=1.0, UB= 2.0)\n",
    "    ks = np.logspace(np.log10(k_crit), 4, num=100)\n",
    "    E_tr_inv = get_E_tr_inv(gamma,alpha)\n",
    "    ks = np.array([E_tr_inv(tau) for tau in np.linspace(0.001,0.98,100)])\n",
    "    # plt.scatter(df[\"rreg_E_tr\"], df[\"rreg_E_te\"],color = '#1f77b4',label='near-interpol-RR')\n",
    "    \n",
    "    \n",
    "    plt.plot(E_tr(ks),E_te(ks),**kwargs)\n",
    "    # ks = np.array([E_tr_inv(tau) for tau in np.linspace(0.001,0.98,20)])\n",
    "    # plt.scatter(E_tr(ks),E_te(ks))"
   ]
  },
  {
   "cell_type": "code",
   "execution_count": 25,
   "id": "44ee76c1-7e5a-4dbc-a2de-88ac7fd5a046",
   "metadata": {},
   "outputs": [],
   "source": [
    "def annote_box(text, xy, xytext, color):\n",
    "    ax = plt.gca()\n",
    "    ax.annotate(text, \n",
    "                xy=xy, \n",
    "                xycoords='data',\n",
    "                xytext=xytext, \n",
    "                textcoords='offset points',\n",
    "                arrowprops=dict(arrowstyle=\"->\", color=color),\n",
    "                color=color,\n",
    "                bbox=dict(boxstyle=\"round,pad=0.3\", facecolor=\"white\", edgecolor=color))\n",
    "\n"
   ]
  },
  {
   "cell_type": "code",
   "execution_count": 26,
   "id": "f72c7134-8ae0-4738-8380-d76b709051d3",
   "metadata": {},
   "outputs": [],
   "source": [
    "debug = False\n",
    "\n",
    "plt.figure(figsize=(5,3))\n",
    "xys = [ (0.0,1.0), (0.5,1.75)]\n",
    "xytexts = [ (-1.6,1.9), (0.7,1.0)]\n",
    "\n",
    "for i in range(len(config['results'])):\n",
    "    res_hash = config['results'][i]\n",
    "    df = get_df_from_res_hash(res_hash)\n",
    "    \n",
    "    run_config = get_config_from_res_hash(res_hash)\n",
    "    alpha_lab = r'$\\alpha = ' +str(run_config['alpha'])+ '$'\n",
    "    \n",
    "    medians = df.groupby('tau')[['E_tr', 'E_te']].median().reset_index()\n",
    "    quantiles_20 = df.groupby('tau')[['E_tr', 'E_te']].quantile(0.20).reset_index()\n",
    "    quantiles_80 = df.groupby('tau')[['E_tr', 'E_te']].quantile(0.80).reset_index()\n",
    "    annote_box(alpha_lab, xy = xys[i],xytext= xytexts[i], color=colors[i])\n",
    "\n",
    "    if i == 1:\n",
    "        qtl_label = 'experiment 20-80 qtl'\n",
    "        scatter_label = 'experiment instance'\n",
    "        curve_label = 'theoretical prediction'\n",
    "    else:\n",
    "        qtl_label = None\n",
    "        scatter_label = None\n",
    "        curve_label = None\n",
    "    plt.fill_between(quantiles_20['tau'], quantiles_20['E_te'], quantiles_80['E_te'], color=colors[i], alpha=0.25, label=qtl_label)\n",
    "\n",
    "    df_small = df.sample(frac=0.25)\n",
    "    \n",
    "    plt.scatter(df_small['E_tr'], df_small['E_te'],color=colorsL[i], marker='.', label=scatter_label)\n",
    "    \n",
    "    plot_trade_off_curve(gamma=eval(run_config['gamma']),alpha=run_config['alpha'], label= curve_label,color = colors[i])\n",
    "   \n",
    "plt.axhline(y=1, color='k', linestyle=\":\", label='noise floor')\n",
    "plt.xlim((-0.05,1.05))\n",
    "    \n",
    "# Add legend outside the plot\n",
    "plt.legend(loc='upper right')\n",
    "# plt.legend(loc='upper left', bbox_to_anchor=(1, 1))\n",
    "\n",
    "# plt.xlabel(r'$\\mathcal{E}_{\\mathtt{train}}^\\ast$')\n",
    "plt.xlabel(\"Training error\")\n",
    "# plt.ylabel(r'$\\mathcal{E}_{\\mathtt{test}}^\\ast$')\n",
    "plt.ylabel(\"Testing error\")\n",
    "plt.title(\"Interpolation-Generalization trade-off\")\n",
    "if debug == False:\n",
    "    plt.savefig('outputs/trade_off.png')\n",
    "    plt.savefig('outputs/trade_off.svg')\n"
   ]
  },
  {
   "cell_type": "code",
   "execution_count": 27,
   "id": "5eb2d795-b940-4a76-b559-65bfcfca0f64",
   "metadata": {},
   "outputs": [],
   "source": [
    "import numpy as np\n",
    "from scipy.stats import linregress\n",
    "\n",
    "def regression_line(df,quantity_name,legend=False,**kwargs):\n",
    "    n_trs = df['n_tr']\n",
    "    # Get log values\n",
    "    log_n_tr = np.log(n_trs)\n",
    "    log_mlp_norm = np.log(df[quantity_name])\n",
    "\n",
    "    # Linear regression\n",
    "    slope, intercept, _, _, _ = linregress(log_n_tr, log_mlp_norm)\n",
    "\n",
    "    # Linear fit line\n",
    "    x_values = np.linspace(min(n_trs),max(n_trs))\n",
    "\n",
    "    if legend:\n",
    "        \n",
    "        plt.plot(x_values, np.exp(intercept)*x_values**slope,label= r'Least squares fit (log-log)', **kwargs)\n",
    "    else:\n",
    "        plt.plot(x_values, np.exp(intercept)*x_values**slope,**kwargs)\n",
    "    return slope, intercept\n",
    "\n"
   ]
  }
 ],
 "metadata": {
  "kernelspec": {
   "display_name": "Python 3 (ipykernel)",
   "language": "python",
   "name": "python3"
  },
  "language_info": {
   "codemirror_mode": {
    "name": "ipython",
    "version": 3
   },
   "file_extension": ".py",
   "mimetype": "text/x-python",
   "name": "python",
   "nbconvert_exporter": "python",
   "pygments_lexer": "ipython3",
   "version": "3.10.10"
  }
 },
 "nbformat": 4,
 "nbformat_minor": 5
}
